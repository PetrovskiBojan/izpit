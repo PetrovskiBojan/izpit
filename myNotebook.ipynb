{
 "cells": [
  {
   "cell_type": "code",
   "execution_count": 2,
   "metadata": {},
   "outputs": [],
   "source": [
    "import pandas as pd\n",
    "import numpy as np"
   ]
  },
  {
   "cell_type": "code",
   "execution_count": 10,
   "metadata": {},
   "outputs": [
    {
     "name": "stdout",
     "output_type": "stream",
     "text": [
      "   Unnamed: 0  STEM_subjects  H_subjects Residence_city  Socioeconomic_level  \\\n",
      "0           0           57.5        38.0            NaN                  NaN   \n",
      "1           1           51.0        50.0            NaN                  NaN   \n",
      "2           2           48.3        43.5            NaN                  NaN   \n",
      "3           3           35.8        49.3            NaN                  NaN   \n",
      "4           4           42.7        41.1            NaN                  NaN   \n",
      "\n",
      "  Civil_status  Age State Province  Vulnerable_group Desired_program  \\\n",
      "0          NaN  NaN   NaN      NaN               NaN             NaN   \n",
      "1          NaN  NaN   NaN      NaN               NaN             NaN   \n",
      "2          NaN  NaN   NaN      NaN               NaN             NaN   \n",
      "3          NaN  NaN   NaN      NaN               NaN             NaN   \n",
      "4          NaN  NaN   NaN      NaN               NaN             NaN   \n",
      "\n",
      "   Family_income Father_level Mother_level Dropout  \n",
      "0            NaN          NaN          NaN     NaN  \n",
      "1            NaN          NaN          NaN     NaN  \n",
      "2            NaN          NaN          NaN     NaN  \n",
      "3            NaN          NaN          NaN     NaN  \n",
      "4            NaN          NaN          NaN     NaN  \n"
     ]
    }
   ],
   "source": [
    "csv_data = pd.read_csv('data/raw/students_scores.csv')\n",
    "\n",
    "excel_data = pd.read_excel('data/raw/students.xlsx', sheet_name='Sheet1')\n",
    "\n",
    "combined_data = pd.concat([csv_data, excel_data], ignore_index=True)\n",
    "combined_data.to_csv('src/students.csv', index=False)\n",
    "print(combined_data.head())\n"
   ]
  },
  {
   "cell_type": "code",
   "execution_count": null,
   "metadata": {},
   "outputs": [],
   "source": []
  }
 ],
 "metadata": {
  "kernelspec": {
   "display_name": "Python 3",
   "language": "python",
   "name": "python3"
  },
  "language_info": {
   "codemirror_mode": {
    "name": "ipython",
    "version": 3
   },
   "file_extension": ".py",
   "mimetype": "text/x-python",
   "name": "python",
   "nbconvert_exporter": "python",
   "pygments_lexer": "ipython3",
   "version": "3.12.0"
  }
 },
 "nbformat": 4,
 "nbformat_minor": 2
}
