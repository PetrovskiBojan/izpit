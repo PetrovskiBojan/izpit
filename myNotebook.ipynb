{
 "cells": [
  {
   "cell_type": "code",
   "execution_count": 14,
   "metadata": {},
   "outputs": [],
   "source": [
    "import pandas as pd\n",
    "import numpy as np\n",
    "import os\n",
    "from dvc.repo import Repo as DVCRepo\n",
    "from git import Repo as GitRepo"
   ]
  },
  {
   "cell_type": "code",
   "execution_count": 10,
   "metadata": {},
   "outputs": [
    {
     "name": "stdout",
     "output_type": "stream",
     "text": [
      "   Unnamed: 0  STEM_subjects  H_subjects Residence_city  Socioeconomic_level  \\\n",
      "0           0           57.5        38.0            NaN                  NaN   \n",
      "1           1           51.0        50.0            NaN                  NaN   \n",
      "2           2           48.3        43.5            NaN                  NaN   \n",
      "3           3           35.8        49.3            NaN                  NaN   \n",
      "4           4           42.7        41.1            NaN                  NaN   \n",
      "\n",
      "  Civil_status  Age State Province  Vulnerable_group Desired_program  \\\n",
      "0          NaN  NaN   NaN      NaN               NaN             NaN   \n",
      "1          NaN  NaN   NaN      NaN               NaN             NaN   \n",
      "2          NaN  NaN   NaN      NaN               NaN             NaN   \n",
      "3          NaN  NaN   NaN      NaN               NaN             NaN   \n",
      "4          NaN  NaN   NaN      NaN               NaN             NaN   \n",
      "\n",
      "   Family_income Father_level Mother_level Dropout  \n",
      "0            NaN          NaN          NaN     NaN  \n",
      "1            NaN          NaN          NaN     NaN  \n",
      "2            NaN          NaN          NaN     NaN  \n",
      "3            NaN          NaN          NaN     NaN  \n",
      "4            NaN          NaN          NaN     NaN  \n"
     ]
    }
   ],
   "source": [
    "csv_data = pd.read_csv('data/raw/students_scores.csv')\n",
    "\n",
    "excel_data = pd.read_excel('data/raw/students.xlsx', sheet_name='Sheet1')\n",
    "\n",
    "combined_data = pd.concat([csv_data, excel_data], ignore_index=True)\n",
    "combined_data.to_csv('src/students.csv', index=False)\n",
    "print(combined_data.head())\n"
   ]
  },
  {
   "cell_type": "code",
   "execution_count": 19,
   "metadata": {},
   "outputs": [
    {
     "ename": "StagePathNotFoundError",
     "evalue": "stage working dir 'c:\\Users\\Bojan\\Desktop\\izpit\\izpit\\data\\processed' does not exist",
     "output_type": "error",
     "traceback": [
      "\u001b[1;31m---------------------------------------------------------------------------\u001b[0m",
      "\u001b[1;31mOutputNotFoundError\u001b[0m                       Traceback (most recent call last)",
      "File \u001b[1;32m~\\AppData\\Roaming\\Python\\Python312\\site-packages\\dvc\\repo\\add.py:58\u001b[0m, in \u001b[0;36mget_or_create_stage\u001b[1;34m(repo, target, out, to_remote, force)\u001b[0m\n\u001b[0;32m     57\u001b[0m \u001b[38;5;28;01mtry\u001b[39;00m:\n\u001b[1;32m---> 58\u001b[0m     (out_obj,) \u001b[38;5;241m=\u001b[39m \u001b[43mrepo\u001b[49m\u001b[38;5;241;43m.\u001b[39;49m\u001b[43mfind_outs_by_path\u001b[49m\u001b[43m(\u001b[49m\u001b[43mtarget\u001b[49m\u001b[43m,\u001b[49m\u001b[43m \u001b[49m\u001b[43mstrict\u001b[49m\u001b[38;5;241;43m=\u001b[39;49m\u001b[38;5;28;43;01mFalse\u001b[39;49;00m\u001b[43m)\u001b[49m\n\u001b[0;32m     59\u001b[0m     stage \u001b[38;5;241m=\u001b[39m out_obj\u001b[38;5;241m.\u001b[39mstage\n",
      "File \u001b[1;32m~\\AppData\\Roaming\\Python\\Python312\\site-packages\\dvc\\repo\\__init__.py:558\u001b[0m, in \u001b[0;36mRepo.find_outs_by_path\u001b[1;34m(self, path, outs, recursive, strict)\u001b[0m\n\u001b[0;32m    557\u001b[0m \u001b[38;5;28;01mif\u001b[39;00m \u001b[38;5;129;01mnot\u001b[39;00m matched:\n\u001b[1;32m--> 558\u001b[0m     \u001b[38;5;28;01mraise\u001b[39;00m OutputNotFoundError(path, \u001b[38;5;28mself\u001b[39m)\n\u001b[0;32m    560\u001b[0m \u001b[38;5;28;01mreturn\u001b[39;00m matched\n",
      "\u001b[1;31mOutputNotFoundError\u001b[0m: Unable to find DVC file with output 'data\\\\processed\\\\current_data.csv'",
      "\nDuring handling of the above exception, another exception occurred:\n",
      "\u001b[1;31mStagePathNotFoundError\u001b[0m                    Traceback (most recent call last)",
      "Cell \u001b[1;32mIn[19], line 5\u001b[0m\n\u001b[0;32m      2\u001b[0m combined_data\u001b[38;5;241m.\u001b[39mto_csv(\u001b[38;5;124m'\u001b[39m\u001b[38;5;124mpodatki/data/processed/current_data.csv\u001b[39m\u001b[38;5;124m'\u001b[39m, index\u001b[38;5;241m=\u001b[39m\u001b[38;5;28;01mFalse\u001b[39;00m)\n\u001b[0;32m      4\u001b[0m dvc_repo \u001b[38;5;241m=\u001b[39m DVCRepo(\u001b[38;5;124m'\u001b[39m\u001b[38;5;124m.\u001b[39m\u001b[38;5;124m'\u001b[39m)\n\u001b[1;32m----> 5\u001b[0m \u001b[43mdvc_repo\u001b[49m\u001b[38;5;241;43m.\u001b[39;49m\u001b[43madd\u001b[49m\u001b[43m(\u001b[49m\u001b[38;5;124;43m'\u001b[39;49m\u001b[38;5;124;43mdata/processed/current_data.csv\u001b[39;49m\u001b[38;5;124;43m'\u001b[39;49m\u001b[43m)\u001b[49m\n\u001b[0;32m      7\u001b[0m git_repo \u001b[38;5;241m=\u001b[39m GitRepo(\u001b[38;5;124m'\u001b[39m\u001b[38;5;124m.\u001b[39m\u001b[38;5;124m'\u001b[39m)\n\u001b[0;32m      8\u001b[0m git_repo\u001b[38;5;241m.\u001b[39mgit\u001b[38;5;241m.\u001b[39madd(A\u001b[38;5;241m=\u001b[39m\u001b[38;5;28;01mTrue\u001b[39;00m)\n",
      "File \u001b[1;32m~\\AppData\\Roaming\\Python\\Python312\\site-packages\\dvc\\repo\\__init__.py:58\u001b[0m, in \u001b[0;36mlocked.<locals>.wrapper\u001b[1;34m(repo, *args, **kwargs)\u001b[0m\n\u001b[0;32m     55\u001b[0m \u001b[38;5;129m@wraps\u001b[39m(f)\n\u001b[0;32m     56\u001b[0m \u001b[38;5;28;01mdef\u001b[39;00m \u001b[38;5;21mwrapper\u001b[39m(repo, \u001b[38;5;241m*\u001b[39margs, \u001b[38;5;241m*\u001b[39m\u001b[38;5;241m*\u001b[39mkwargs):\n\u001b[0;32m     57\u001b[0m     \u001b[38;5;28;01mwith\u001b[39;00m lock_repo(repo):\n\u001b[1;32m---> 58\u001b[0m         \u001b[38;5;28;01mreturn\u001b[39;00m \u001b[43mf\u001b[49m\u001b[43m(\u001b[49m\u001b[43mrepo\u001b[49m\u001b[43m,\u001b[49m\u001b[43m \u001b[49m\u001b[38;5;241;43m*\u001b[39;49m\u001b[43margs\u001b[49m\u001b[43m,\u001b[49m\u001b[43m \u001b[49m\u001b[38;5;241;43m*\u001b[39;49m\u001b[38;5;241;43m*\u001b[39;49m\u001b[43mkwargs\u001b[49m\u001b[43m)\u001b[49m\n",
      "File \u001b[1;32m~\\AppData\\Roaming\\Python\\Python312\\site-packages\\dvc\\repo\\scm_context.py:143\u001b[0m, in \u001b[0;36mscm_context.<locals>.run\u001b[1;34m(repo, *args, **kw)\u001b[0m\n\u001b[0;32m    140\u001b[0m \u001b[38;5;129m@wraps\u001b[39m(method)\n\u001b[0;32m    141\u001b[0m \u001b[38;5;28;01mdef\u001b[39;00m \u001b[38;5;21mrun\u001b[39m(repo: \u001b[38;5;124m\"\u001b[39m\u001b[38;5;124mRepo\u001b[39m\u001b[38;5;124m\"\u001b[39m, \u001b[38;5;241m*\u001b[39margs, \u001b[38;5;241m*\u001b[39m\u001b[38;5;241m*\u001b[39mkw):\n\u001b[0;32m    142\u001b[0m     \u001b[38;5;28;01mwith\u001b[39;00m repo\u001b[38;5;241m.\u001b[39mscm_context(autostage\u001b[38;5;241m=\u001b[39mautostage, quiet\u001b[38;5;241m=\u001b[39mquiet):\n\u001b[1;32m--> 143\u001b[0m         \u001b[38;5;28;01mreturn\u001b[39;00m \u001b[43mmethod\u001b[49m\u001b[43m(\u001b[49m\u001b[43mrepo\u001b[49m\u001b[43m,\u001b[49m\u001b[43m \u001b[49m\u001b[38;5;241;43m*\u001b[39;49m\u001b[43margs\u001b[49m\u001b[43m,\u001b[49m\u001b[43m \u001b[49m\u001b[38;5;241;43m*\u001b[39;49m\u001b[38;5;241;43m*\u001b[39;49m\u001b[43mkw\u001b[49m\u001b[43m)\u001b[49m\n",
      "File \u001b[1;32m~\\AppData\\Roaming\\Python\\Python312\\site-packages\\dvc\\repo\\add.py:203\u001b[0m, in \u001b[0;36madd\u001b[1;34m(repo, targets, no_commit, glob, out, remote, to_remote, remote_jobs, force)\u001b[0m\n\u001b[0;32m    199\u001b[0m \u001b[38;5;28;01mif\u001b[39;00m \u001b[38;5;129;01mnot\u001b[39;00m add_targets:\n\u001b[0;32m    200\u001b[0m     \u001b[38;5;28;01mreturn\u001b[39;00m []\n\u001b[0;32m    202\u001b[0m stages_with_targets \u001b[38;5;241m=\u001b[39m {\n\u001b[1;32m--> 203\u001b[0m     target: \u001b[43mget_or_create_stage\u001b[49m\u001b[43m(\u001b[49m\n\u001b[0;32m    204\u001b[0m \u001b[43m        \u001b[49m\u001b[43mrepo\u001b[49m\u001b[43m,\u001b[49m\n\u001b[0;32m    205\u001b[0m \u001b[43m        \u001b[49m\u001b[43mtarget\u001b[49m\u001b[43m,\u001b[49m\n\u001b[0;32m    206\u001b[0m \u001b[43m        \u001b[49m\u001b[43mout\u001b[49m\u001b[38;5;241;43m=\u001b[39;49m\u001b[43mout\u001b[49m\u001b[43m,\u001b[49m\n\u001b[0;32m    207\u001b[0m \u001b[43m        \u001b[49m\u001b[43mto_remote\u001b[49m\u001b[38;5;241;43m=\u001b[39;49m\u001b[43mto_remote\u001b[49m\u001b[43m,\u001b[49m\n\u001b[0;32m    208\u001b[0m \u001b[43m        \u001b[49m\u001b[43mforce\u001b[49m\u001b[38;5;241;43m=\u001b[39;49m\u001b[43mforce\u001b[49m\u001b[43m,\u001b[49m\n\u001b[0;32m    209\u001b[0m \u001b[43m    \u001b[49m\u001b[43m)\u001b[49m\n\u001b[0;32m    210\u001b[0m     \u001b[38;5;28;01mfor\u001b[39;00m target \u001b[38;5;129;01min\u001b[39;00m add_targets\n\u001b[0;32m    211\u001b[0m }\n\u001b[0;32m    213\u001b[0m stages \u001b[38;5;241m=\u001b[39m [stage \u001b[38;5;28;01mfor\u001b[39;00m stage, _ \u001b[38;5;129;01min\u001b[39;00m stages_with_targets\u001b[38;5;241m.\u001b[39mvalues()]\n\u001b[0;32m    214\u001b[0m msg \u001b[38;5;241m=\u001b[39m \u001b[38;5;124m\"\u001b[39m\u001b[38;5;124mCollecting stages from the workspace\u001b[39m\u001b[38;5;124m\"\u001b[39m\n",
      "File \u001b[1;32m~\\AppData\\Roaming\\Python\\Python312\\site-packages\\dvc\\repo\\add.py:67\u001b[0m, in \u001b[0;36mget_or_create_stage\u001b[1;34m(repo, target, out, to_remote, force)\u001b[0m\n\u001b[0;32m     65\u001b[0m     \u001b[38;5;28;01mreturn\u001b[39;00m StageInfo(stage, output_exists\u001b[38;5;241m=\u001b[39m\u001b[38;5;28;01mTrue\u001b[39;00m)\n\u001b[0;32m     66\u001b[0m \u001b[38;5;28;01mexcept\u001b[39;00m OutputNotFoundError:\n\u001b[1;32m---> 67\u001b[0m     stage \u001b[38;5;241m=\u001b[39m \u001b[43mrepo\u001b[49m\u001b[38;5;241;43m.\u001b[39;49m\u001b[43mstage\u001b[49m\u001b[38;5;241;43m.\u001b[39;49m\u001b[43mcreate\u001b[49m\u001b[43m(\u001b[49m\n\u001b[0;32m     68\u001b[0m \u001b[43m        \u001b[49m\u001b[43msingle_stage\u001b[49m\u001b[38;5;241;43m=\u001b[39;49m\u001b[38;5;28;43;01mTrue\u001b[39;49;00m\u001b[43m,\u001b[49m\n\u001b[0;32m     69\u001b[0m \u001b[43m        \u001b[49m\u001b[43mvalidate\u001b[49m\u001b[38;5;241;43m=\u001b[39;49m\u001b[38;5;28;43;01mFalse\u001b[39;49;00m\u001b[43m,\u001b[49m\n\u001b[0;32m     70\u001b[0m \u001b[43m        \u001b[49m\u001b[43mfname\u001b[49m\u001b[38;5;241;43m=\u001b[39;49m\u001b[43mpath\u001b[49m\u001b[43m,\u001b[49m\n\u001b[0;32m     71\u001b[0m \u001b[43m        \u001b[49m\u001b[43mwdir\u001b[49m\u001b[38;5;241;43m=\u001b[39;49m\u001b[43mwdir\u001b[49m\u001b[43m,\u001b[49m\n\u001b[0;32m     72\u001b[0m \u001b[43m        \u001b[49m\u001b[43mouts\u001b[49m\u001b[38;5;241;43m=\u001b[39;49m\u001b[43m[\u001b[49m\u001b[43mout\u001b[49m\u001b[43m]\u001b[49m\u001b[43m,\u001b[49m\n\u001b[0;32m     73\u001b[0m \u001b[43m        \u001b[49m\u001b[43mforce\u001b[49m\u001b[38;5;241;43m=\u001b[39;49m\u001b[43mforce\u001b[49m\u001b[43m,\u001b[49m\n\u001b[0;32m     74\u001b[0m \u001b[43m    \u001b[49m\u001b[43m)\u001b[49m\n\u001b[0;32m     75\u001b[0m     \u001b[38;5;28;01mreturn\u001b[39;00m StageInfo(stage, output_exists\u001b[38;5;241m=\u001b[39m\u001b[38;5;28;01mFalse\u001b[39;00m)\n",
      "File \u001b[1;32m~\\AppData\\Roaming\\Python\\Python312\\site-packages\\dvc\\repo\\stage.py:184\u001b[0m, in \u001b[0;36mStageLoad.create\u001b[1;34m(self, single_stage, validate, fname, force, **stage_data)\u001b[0m\n\u001b[0;32m    181\u001b[0m     \u001b[38;5;28;01mif\u001b[39;00m \u001b[38;5;129;01mnot\u001b[39;00m (stage_name \u001b[38;5;129;01mand\u001b[39;00m is_valid_name(stage_name)):\n\u001b[0;32m    182\u001b[0m         \u001b[38;5;28;01mraise\u001b[39;00m InvalidStageName\n\u001b[1;32m--> 184\u001b[0m stage \u001b[38;5;241m=\u001b[39m \u001b[43mcreate_stage\u001b[49m\u001b[43m(\u001b[49m\u001b[43mstage_cls\u001b[49m\u001b[43m,\u001b[49m\u001b[43m \u001b[49m\u001b[43mrepo\u001b[49m\u001b[38;5;241;43m=\u001b[39;49m\u001b[38;5;28;43mself\u001b[39;49m\u001b[38;5;241;43m.\u001b[39;49m\u001b[43mrepo\u001b[49m\u001b[43m,\u001b[49m\u001b[43m \u001b[49m\u001b[43mpath\u001b[49m\u001b[38;5;241;43m=\u001b[39;49m\u001b[43mpath\u001b[49m\u001b[43m,\u001b[49m\u001b[43m \u001b[49m\u001b[38;5;241;43m*\u001b[39;49m\u001b[38;5;241;43m*\u001b[39;49m\u001b[43mstage_data\u001b[49m\u001b[43m)\u001b[49m\n\u001b[0;32m    185\u001b[0m \u001b[38;5;28;01mif\u001b[39;00m validate:\n\u001b[0;32m    186\u001b[0m     \u001b[38;5;28;01mif\u001b[39;00m \u001b[38;5;129;01mnot\u001b[39;00m force:\n",
      "File \u001b[1;32m~\\AppData\\Roaming\\Python\\Python312\\site-packages\\dvc\\stage\\__init__.py:90\u001b[0m, in \u001b[0;36mcreate_stage\u001b[1;34m(cls, repo, path, **kwargs)\u001b[0m\n\u001b[0;32m     87\u001b[0m path \u001b[38;5;241m=\u001b[39m os\u001b[38;5;241m.\u001b[39mpath\u001b[38;5;241m.\u001b[39mabspath(path)\n\u001b[0;32m     89\u001b[0m check_dvcfile_path(repo, path)\n\u001b[1;32m---> 90\u001b[0m \u001b[43mcheck_stage_path\u001b[49m\u001b[43m(\u001b[49m\u001b[43mrepo\u001b[49m\u001b[43m,\u001b[49m\u001b[43m \u001b[49m\u001b[43mwdir\u001b[49m\u001b[43m,\u001b[49m\u001b[43m \u001b[49m\u001b[43mis_wdir\u001b[49m\u001b[38;5;241;43m=\u001b[39;49m\u001b[43mkwargs\u001b[49m\u001b[38;5;241;43m.\u001b[39;49m\u001b[43mget\u001b[49m\u001b[43m(\u001b[49m\u001b[38;5;124;43m\"\u001b[39;49m\u001b[38;5;124;43mwdir\u001b[39;49m\u001b[38;5;124;43m\"\u001b[39;49m\u001b[43m)\u001b[49m\u001b[43m)\u001b[49m\n\u001b[0;32m     91\u001b[0m check_stage_path(repo, os\u001b[38;5;241m.\u001b[39mpath\u001b[38;5;241m.\u001b[39mdirname(path))\n\u001b[0;32m     93\u001b[0m stage \u001b[38;5;241m=\u001b[39m loads_from(\u001b[38;5;28mcls\u001b[39m, repo, path, wdir, kwargs)\n",
      "File \u001b[1;32m~\\AppData\\Roaming\\Python\\Python312\\site-packages\\dvc\\stage\\utils.py:37\u001b[0m, in \u001b[0;36mcheck_stage_path\u001b[1;34m(repo, path, is_wdir)\u001b[0m\n\u001b[0;32m     35\u001b[0m real_path \u001b[38;5;241m=\u001b[39m os\u001b[38;5;241m.\u001b[39mpath\u001b[38;5;241m.\u001b[39mabspath(path)\n\u001b[0;32m     36\u001b[0m \u001b[38;5;28;01mif\u001b[39;00m \u001b[38;5;129;01mnot\u001b[39;00m os\u001b[38;5;241m.\u001b[39mpath\u001b[38;5;241m.\u001b[39mexists(real_path):\n\u001b[1;32m---> 37\u001b[0m     \u001b[38;5;28;01mraise\u001b[39;00m StagePathNotFoundError(error_msg\u001b[38;5;241m.\u001b[39mformat(\u001b[38;5;124m\"\u001b[39m\u001b[38;5;124mdoes not exist\u001b[39m\u001b[38;5;124m\"\u001b[39m))\n\u001b[0;32m     39\u001b[0m \u001b[38;5;28;01mif\u001b[39;00m \u001b[38;5;129;01mnot\u001b[39;00m os\u001b[38;5;241m.\u001b[39mpath\u001b[38;5;241m.\u001b[39misdir(real_path):\n\u001b[0;32m     40\u001b[0m     \u001b[38;5;28;01mraise\u001b[39;00m StagePathNotDirectoryError(error_msg\u001b[38;5;241m.\u001b[39mformat(\u001b[38;5;124m\"\u001b[39m\u001b[38;5;124mis not directory\u001b[39m\u001b[38;5;124m\"\u001b[39m))\n",
      "\u001b[1;31mStagePathNotFoundError\u001b[0m: stage working dir 'c:\\Users\\Bojan\\Desktop\\izpit\\izpit\\data\\processed' does not exist"
     ]
    }
   ],
   "source": [
    "combined_data['AVG_subject'] = combined_data[['STEM_subjects', 'H_subjects']].mean(axis=1)\n",
    "combined_data.to_csv('podatki/data/processed/current_data.csv', index=False)\n",
    "\n",
    "dvc_repo = DVCRepo('.')\n",
    "dvc_repo.add('data/processed/current_data.csv')\n",
    "\n",
    "git_repo = GitRepo('.')\n",
    "git_repo.git.add(A=True)\n",
    "git_repo.index.commit(\"Processed data and saved to current_data.csv\")"
   ]
  },
  {
   "cell_type": "code",
   "execution_count": null,
   "metadata": {},
   "outputs": [],
   "source": []
  }
 ],
 "metadata": {
  "kernelspec": {
   "display_name": "Python 3",
   "language": "python",
   "name": "python3"
  },
  "language_info": {
   "codemirror_mode": {
    "name": "ipython",
    "version": 3
   },
   "file_extension": ".py",
   "mimetype": "text/x-python",
   "name": "python",
   "nbconvert_exporter": "python",
   "pygments_lexer": "ipython3",
   "version": "3.12.0"
  }
 },
 "nbformat": 4,
 "nbformat_minor": 2
}
