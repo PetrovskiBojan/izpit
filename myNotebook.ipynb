{
 "cells": [
  {
   "cell_type": "code",
   "execution_count": 14,
   "metadata": {},
   "outputs": [],
   "source": [
    "import pandas as pd\n",
    "import numpy as np\n",
    "import os\n",
    "from dvc.repo import Repo as DVCRepo\n",
    "from git import Repo as GitRepo"
   ]
  },
  {
   "cell_type": "code",
   "execution_count": 10,
   "metadata": {},
   "outputs": [
    {
     "name": "stdout",
     "output_type": "stream",
     "text": [
      "   Unnamed: 0  STEM_subjects  H_subjects Residence_city  Socioeconomic_level  \\\n",
      "0           0           57.5        38.0            NaN                  NaN   \n",
      "1           1           51.0        50.0            NaN                  NaN   \n",
      "2           2           48.3        43.5            NaN                  NaN   \n",
      "3           3           35.8        49.3            NaN                  NaN   \n",
      "4           4           42.7        41.1            NaN                  NaN   \n",
      "\n",
      "  Civil_status  Age State Province  Vulnerable_group Desired_program  \\\n",
      "0          NaN  NaN   NaN      NaN               NaN             NaN   \n",
      "1          NaN  NaN   NaN      NaN               NaN             NaN   \n",
      "2          NaN  NaN   NaN      NaN               NaN             NaN   \n",
      "3          NaN  NaN   NaN      NaN               NaN             NaN   \n",
      "4          NaN  NaN   NaN      NaN               NaN             NaN   \n",
      "\n",
      "   Family_income Father_level Mother_level Dropout  \n",
      "0            NaN          NaN          NaN     NaN  \n",
      "1            NaN          NaN          NaN     NaN  \n",
      "2            NaN          NaN          NaN     NaN  \n",
      "3            NaN          NaN          NaN     NaN  \n",
      "4            NaN          NaN          NaN     NaN  \n"
     ]
    }
   ],
   "source": [
    "csv_data = pd.read_csv('data/raw/students_scores.csv')\n",
    "\n",
    "excel_data = pd.read_excel('data/raw/students.xlsx', sheet_name='Sheet1')\n",
    "\n",
    "combined_data = pd.concat([csv_data, excel_data], ignore_index=True)\n",
    "combined_data.to_csv('src/students.csv', index=False)\n",
    "print(combined_data.head())\n"
   ]
  },
  {
   "cell_type": "code",
   "execution_count": 21,
   "metadata": {},
   "outputs": [
    {
     "data": {
      "text/html": [
       "<pre style=\"white-space:pre;overflow-x:auto;line-height:normal;font-family:Menlo,'DejaVu Sans Mono',consolas,'Courier New',monospace\"></pre>\n"
      ],
      "text/plain": []
     },
     "metadata": {},
     "output_type": "display_data"
    },
    {
     "name": "stdout",
     "output_type": "stream",
     "text": [
      "\n",
      "To track the changes with git, run:\n",
      "\n",
      "\tgit add 'podatki\\data.dvc'\n",
      "\n",
      "To enable auto staging, run:\n",
      "\n",
      "\tdvc config core.autostage true\n"
     ]
    },
    {
     "data": {
      "text/plain": [
       "<git.Commit \"d08182e28132480439e71b8d60c7abe50f0a2c71\">"
      ]
     },
     "execution_count": 21,
     "metadata": {},
     "output_type": "execute_result"
    }
   ],
   "source": [
    "combined_data['AVG_subject'] = combined_data[['STEM_subjects', 'H_subjects']].mean(axis=1)\n",
    "combined_data.to_csv('podatki/data/processed/current_data.csv', index=False)\n",
    "\n",
    "dvc_repo = DVCRepo('.')\n",
    "dvc_repo.add('podatki/data/processed/current_data.csv')\n",
    "\n",
    "git_repo = GitRepo('.')\n",
    "git_repo.git.add(A=True)\n",
    "git_repo.index.commit(\"Processed data and saved to current_data.csv\")"
   ]
  },
  {
   "cell_type": "code",
   "execution_count": 22,
   "metadata": {},
   "outputs": [
    {
     "data": {
      "text/plain": [
       "''"
      ]
     },
     "execution_count": 22,
     "metadata": {},
     "output_type": "execute_result"
    }
   ],
   "source": [
    "git_repo.git.push()"
   ]
  },
  {
   "cell_type": "code",
   "execution_count": 23,
   "metadata": {},
   "outputs": [
    {
     "ename": "NoRemoteError",
     "evalue": "config file error: no remote specified in c:\\Users\\Bojan\\Desktop\\izpit\\izpit. Create a default remote with\n    dvc remote add -d <remote name> <remote url>",
     "output_type": "error",
     "traceback": [
      "\u001b[1;31m---------------------------------------------------------------------------\u001b[0m",
      "\u001b[1;31mNoRemoteError\u001b[0m                             Traceback (most recent call last)",
      "Cell \u001b[1;32mIn[23], line 1\u001b[0m\n\u001b[1;32m----> 1\u001b[0m \u001b[43mdvc_repo\u001b[49m\u001b[38;5;241;43m.\u001b[39;49m\u001b[43mpush\u001b[49m\u001b[43m(\u001b[49m\u001b[43m)\u001b[49m\n",
      "File \u001b[1;32m~\\AppData\\Roaming\\Python\\Python312\\site-packages\\dvc\\repo\\__init__.py:58\u001b[0m, in \u001b[0;36mlocked.<locals>.wrapper\u001b[1;34m(repo, *args, **kwargs)\u001b[0m\n\u001b[0;32m     55\u001b[0m \u001b[38;5;129m@wraps\u001b[39m(f)\n\u001b[0;32m     56\u001b[0m \u001b[38;5;28;01mdef\u001b[39;00m \u001b[38;5;21mwrapper\u001b[39m(repo, \u001b[38;5;241m*\u001b[39margs, \u001b[38;5;241m*\u001b[39m\u001b[38;5;241m*\u001b[39mkwargs):\n\u001b[0;32m     57\u001b[0m     \u001b[38;5;28;01mwith\u001b[39;00m lock_repo(repo):\n\u001b[1;32m---> 58\u001b[0m         \u001b[38;5;28;01mreturn\u001b[39;00m \u001b[43mf\u001b[49m\u001b[43m(\u001b[49m\u001b[43mrepo\u001b[49m\u001b[43m,\u001b[49m\u001b[43m \u001b[49m\u001b[38;5;241;43m*\u001b[39;49m\u001b[43margs\u001b[49m\u001b[43m,\u001b[49m\u001b[43m \u001b[49m\u001b[38;5;241;43m*\u001b[39;49m\u001b[38;5;241;43m*\u001b[39;49m\u001b[43mkwargs\u001b[49m\u001b[43m)\u001b[49m\n",
      "File \u001b[1;32m~\\AppData\\Roaming\\Python\\Python312\\site-packages\\dvc\\repo\\push.py:148\u001b[0m, in \u001b[0;36mpush\u001b[1;34m(self, targets, jobs, remote, all_branches, with_deps, all_tags, recursive, all_commits, run_cache, revs, workspace, glob)\u001b[0m\n\u001b[0;32m    146\u001b[0m ws_idx \u001b[38;5;241m=\u001b[39m indexes\u001b[38;5;241m.\u001b[39mget(\u001b[38;5;124m\"\u001b[39m\u001b[38;5;124mworkspace\u001b[39m\u001b[38;5;124m\"\u001b[39m)\n\u001b[0;32m    147\u001b[0m \u001b[38;5;28;01mif\u001b[39;00m ws_idx \u001b[38;5;129;01mis\u001b[39;00m \u001b[38;5;129;01mnot\u001b[39;00m \u001b[38;5;28;01mNone\u001b[39;00m:\n\u001b[1;32m--> 148\u001b[0m     \u001b[43m_update_meta\u001b[49m\u001b[43m(\u001b[49m\n\u001b[0;32m    149\u001b[0m \u001b[43m        \u001b[49m\u001b[38;5;28;43mself\u001b[39;49m\u001b[38;5;241;43m.\u001b[39;49m\u001b[43mindex\u001b[49m\u001b[43m,\u001b[49m\n\u001b[0;32m    150\u001b[0m \u001b[43m        \u001b[49m\u001b[43mtargets\u001b[49m\u001b[38;5;241;43m=\u001b[39;49m\u001b[43mglob_targets\u001b[49m\u001b[43m(\u001b[49m\u001b[43mtargets\u001b[49m\u001b[43m,\u001b[49m\u001b[43m \u001b[49m\u001b[43mglob\u001b[49m\u001b[38;5;241;43m=\u001b[39;49m\u001b[43mglob\u001b[49m\u001b[43m)\u001b[49m\u001b[43m,\u001b[49m\n\u001b[0;32m    151\u001b[0m \u001b[43m        \u001b[49m\u001b[43mremote\u001b[49m\u001b[38;5;241;43m=\u001b[39;49m\u001b[43mremote\u001b[49m\u001b[43m,\u001b[49m\n\u001b[0;32m    152\u001b[0m \u001b[43m        \u001b[49m\u001b[43mwith_deps\u001b[49m\u001b[38;5;241;43m=\u001b[39;49m\u001b[43mwith_deps\u001b[49m\u001b[43m,\u001b[49m\n\u001b[0;32m    153\u001b[0m \u001b[43m        \u001b[49m\u001b[43mrecursive\u001b[49m\u001b[38;5;241;43m=\u001b[39;49m\u001b[43mrecursive\u001b[49m\u001b[43m,\u001b[49m\n\u001b[0;32m    154\u001b[0m \u001b[43m    \u001b[49m\u001b[43m)\u001b[49m\n\u001b[0;32m    156\u001b[0m \u001b[38;5;28;01mfor\u001b[39;00m fs_index \u001b[38;5;129;01min\u001b[39;00m data:\n\u001b[0;32m    157\u001b[0m     fs_index\u001b[38;5;241m.\u001b[39mclose()\n",
      "File \u001b[1;32m~\\AppData\\Roaming\\Python\\Python312\\site-packages\\dvc\\repo\\push.py:38\u001b[0m, in \u001b[0;36m_update_meta\u001b[1;34m(index, **kwargs)\u001b[0m\n\u001b[0;32m     36\u001b[0m stages \u001b[38;5;241m=\u001b[39m \u001b[38;5;28mset\u001b[39m()\n\u001b[0;32m     37\u001b[0m \u001b[38;5;28;01mfor\u001b[39;00m remote_name, idx \u001b[38;5;129;01min\u001b[39;00m worktree_view_by_remotes(index, push\u001b[38;5;241m=\u001b[39m\u001b[38;5;28;01mTrue\u001b[39;00m, \u001b[38;5;241m*\u001b[39m\u001b[38;5;241m*\u001b[39mkwargs):\n\u001b[1;32m---> 38\u001b[0m     remote \u001b[38;5;241m=\u001b[39m \u001b[43mindex\u001b[49m\u001b[38;5;241;43m.\u001b[39;49m\u001b[43mrepo\u001b[49m\u001b[38;5;241;43m.\u001b[39;49m\u001b[43mcloud\u001b[49m\u001b[38;5;241;43m.\u001b[39;49m\u001b[43mget_remote\u001b[49m\u001b[43m(\u001b[49m\u001b[43mremote_name\u001b[49m\u001b[43m)\u001b[49m\n\u001b[0;32m     40\u001b[0m     \u001b[38;5;28;01mif\u001b[39;00m \u001b[38;5;129;01mnot\u001b[39;00m remote\u001b[38;5;241m.\u001b[39mfs\u001b[38;5;241m.\u001b[39mversion_aware:\n\u001b[0;32m     41\u001b[0m         \u001b[38;5;28;01mcontinue\u001b[39;00m\n",
      "File \u001b[1;32m~\\AppData\\Roaming\\Python\\Python312\\site-packages\\dvc\\data_cloud.py:124\u001b[0m, in \u001b[0;36mDataCloud.get_remote\u001b[1;34m(self, name, command)\u001b[0m\n\u001b[0;32m    118\u001b[0m \u001b[38;5;28;01melse\u001b[39;00m:\n\u001b[0;32m    119\u001b[0m     error_msg \u001b[38;5;241m=\u001b[39m (\n\u001b[0;32m    120\u001b[0m         \u001b[38;5;124mf\u001b[39m\u001b[38;5;124m\"\u001b[39m\u001b[38;5;124mno remote specified in \u001b[39m\u001b[38;5;132;01m{\u001b[39;00m\u001b[38;5;28mself\u001b[39m\u001b[38;5;241m.\u001b[39mrepo\u001b[38;5;132;01m}\u001b[39;00m\u001b[38;5;124m. Create a default remote with\u001b[39m\u001b[38;5;130;01m\\n\u001b[39;00m\u001b[38;5;124m\"\u001b[39m\n\u001b[0;32m    121\u001b[0m         \u001b[38;5;124m\"\u001b[39m\u001b[38;5;124m    dvc remote add -d <remote name> <remote url>\u001b[39m\u001b[38;5;124m\"\u001b[39m\n\u001b[0;32m    122\u001b[0m     )\n\u001b[1;32m--> 124\u001b[0m \u001b[38;5;28;01mraise\u001b[39;00m NoRemoteError(error_msg)\n",
      "\u001b[1;31mNoRemoteError\u001b[0m: config file error: no remote specified in c:\\Users\\Bojan\\Desktop\\izpit\\izpit. Create a default remote with\n    dvc remote add -d <remote name> <remote url>"
     ]
    }
   ],
   "source": [
    "dvc_repo.push()"
   ]
  },
  {
   "cell_type": "code",
   "execution_count": null,
   "metadata": {},
   "outputs": [],
   "source": []
  }
 ],
 "metadata": {
  "kernelspec": {
   "display_name": "Python 3",
   "language": "python",
   "name": "python3"
  },
  "language_info": {
   "codemirror_mode": {
    "name": "ipython",
    "version": 3
   },
   "file_extension": ".py",
   "mimetype": "text/x-python",
   "name": "python",
   "nbconvert_exporter": "python",
   "pygments_lexer": "ipython3",
   "version": "3.12.0"
  }
 },
 "nbformat": 4,
 "nbformat_minor": 2
}
